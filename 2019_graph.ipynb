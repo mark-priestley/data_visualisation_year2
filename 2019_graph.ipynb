{
  "nbformat": 4,
  "nbformat_minor": 0,
  "metadata": {
    "colab": {
      "name": "2019_streamgraph.ipynb",
      "provenance": []
    },
    "kernelspec": {
      "name": "python3",
      "display_name": "Python 3"
    }
  },
  "cells": [
    {
      "cell_type": "markdown",
      "metadata": {
        "id": "NhWN3G_bzEgq"
      },
      "source": [
        "# Final Graph - 2019"
      ]
    },
    {
      "cell_type": "markdown",
      "metadata": {
        "id": "cneVCFg2zK_4"
      },
      "source": [
        "Imports packages"
      ]
    },
    {
      "cell_type": "code",
      "metadata": {
        "id": "jmEM6K84hp3g"
      },
      "source": [
        "import numpy as np\r\n",
        "import matplotlib.pyplot as plt\r\n",
        "from matplotlib import figure\r\n",
        "from ipywidgets import interact, interactive\r\n",
        "from matplotlib.dates import MonthLocator, WeekdayLocator, DateFormatter\r\n",
        "from IPython.display import display\r\n",
        "import datetime"
      ],
      "execution_count": 41,
      "outputs": []
    },
    {
      "cell_type": "markdown",
      "metadata": {
        "id": "Qd7KX9y3zNIZ"
      },
      "source": [
        "Reads the dataset into a dataframe, and groups the rows into every hour"
      ]
    },
    {
      "cell_type": "code",
      "metadata": {
        "colab": {
          "base_uri": "https://localhost:8080/",
          "height": 530
        },
        "id": "C1Vmw7Jpd7Jg",
        "outputId": "ab746510-ab39-4ec7-c979-96822030434a"
      },
      "source": [
        "import pandas as pd\r\n",
        "\r\n",
        "df = pd.read_csv(\"https://data.smartdublin.ie/dataset/cc421859-1f4f-43f6-b349-f4ca0e1c60fa/resource/0e1ac985-3a45-4134-a696-32909a0310aa/download/dcc-2019-pedestrian-footfall-count-jan-dec_14082020.csv\", \r\n",
        "parse_dates = [\"Time\"], index_col = \"Time\")\r\n",
        "df = df.resample(\"H\").sum()\r\n",
        "\r\n",
        "df.head()"
      ],
      "execution_count": 9,
      "outputs": [
        {
          "output_type": "execute_result",
          "data": {
            "text/html": [
              "<div>\n",
              "<style scoped>\n",
              "    .dataframe tbody tr th:only-of-type {\n",
              "        vertical-align: middle;\n",
              "    }\n",
              "\n",
              "    .dataframe tbody tr th {\n",
              "        vertical-align: top;\n",
              "    }\n",
              "\n",
              "    .dataframe thead th {\n",
              "        text-align: right;\n",
              "    }\n",
              "</style>\n",
              "<table border=\"1\" class=\"dataframe\">\n",
              "  <thead>\n",
              "    <tr style=\"text-align: right;\">\n",
              "      <th></th>\n",
              "      <th>O'Connell St Outside Pennys</th>\n",
              "      <th>O'Connell St Outside Clerys</th>\n",
              "      <th>Mary Street</th>\n",
              "      <th>Capel Street</th>\n",
              "      <th>Aston Quay</th>\n",
              "      <th>Grafton Street @ CompuB</th>\n",
              "      <th>Talbot Street North</th>\n",
              "      <th>Doilier Street, Burgh Quay</th>\n",
              "      <th>Dawson Street Replacement</th>\n",
              "      <th>Dame Street</th>\n",
              "      <th>Talbot Street South</th>\n",
              "      <th>O'Connell St, Parnell St @ AIB</th>\n",
              "      <th>Grafton Street / Nassau Street / Suffolk Street</th>\n",
              "      <th>College Green, Bank Of Ireland</th>\n",
              "      <th>Henry Street</th>\n",
              "      <th>Westmoreland Street East</th>\n",
              "      <th>Dawson Street</th>\n",
              "      <th>Liffey Street</th>\n",
              "      <th>Westmoreland Street West</th>\n",
              "      <th>Grafton Street</th>\n",
              "      <th>Bachelors Walk</th>\n",
              "      <th>College Green @ Church Lane</th>\n",
              "      <th>College Green - Dame St Side</th>\n",
              "    </tr>\n",
              "    <tr>\n",
              "      <th>Time</th>\n",
              "      <th></th>\n",
              "      <th></th>\n",
              "      <th></th>\n",
              "      <th></th>\n",
              "      <th></th>\n",
              "      <th></th>\n",
              "      <th></th>\n",
              "      <th></th>\n",
              "      <th></th>\n",
              "      <th></th>\n",
              "      <th></th>\n",
              "      <th></th>\n",
              "      <th></th>\n",
              "      <th></th>\n",
              "      <th></th>\n",
              "      <th></th>\n",
              "      <th></th>\n",
              "      <th></th>\n",
              "      <th></th>\n",
              "      <th></th>\n",
              "      <th></th>\n",
              "      <th></th>\n",
              "      <th></th>\n",
              "    </tr>\n",
              "  </thead>\n",
              "  <tbody>\n",
              "    <tr>\n",
              "      <th>2019-01-01 00:00:00</th>\n",
              "      <td>1504</td>\n",
              "      <td>1914.0</td>\n",
              "      <td>163</td>\n",
              "      <td>238</td>\n",
              "      <td>0.0</td>\n",
              "      <td>0.0</td>\n",
              "      <td>0.0</td>\n",
              "      <td>0.0</td>\n",
              "      <td>0.0</td>\n",
              "      <td>0.0</td>\n",
              "      <td>0.0</td>\n",
              "      <td>0.0</td>\n",
              "      <td>0.0</td>\n",
              "      <td>0.0</td>\n",
              "      <td>597.0</td>\n",
              "      <td>1670.0</td>\n",
              "      <td>255.0</td>\n",
              "      <td>881.0</td>\n",
              "      <td>1988.0</td>\n",
              "      <td>140.0</td>\n",
              "      <td>0.0</td>\n",
              "      <td>0.0</td>\n",
              "      <td>0.0</td>\n",
              "    </tr>\n",
              "    <tr>\n",
              "      <th>2019-01-01 01:00:00</th>\n",
              "      <td>1187</td>\n",
              "      <td>885.0</td>\n",
              "      <td>102</td>\n",
              "      <td>173</td>\n",
              "      <td>0.0</td>\n",
              "      <td>0.0</td>\n",
              "      <td>0.0</td>\n",
              "      <td>0.0</td>\n",
              "      <td>0.0</td>\n",
              "      <td>0.0</td>\n",
              "      <td>0.0</td>\n",
              "      <td>0.0</td>\n",
              "      <td>0.0</td>\n",
              "      <td>0.0</td>\n",
              "      <td>359.0</td>\n",
              "      <td>767.0</td>\n",
              "      <td>209.0</td>\n",
              "      <td>723.0</td>\n",
              "      <td>1270.0</td>\n",
              "      <td>215.0</td>\n",
              "      <td>0.0</td>\n",
              "      <td>0.0</td>\n",
              "      <td>0.0</td>\n",
              "    </tr>\n",
              "    <tr>\n",
              "      <th>2019-01-01 02:00:00</th>\n",
              "      <td>1233</td>\n",
              "      <td>984.0</td>\n",
              "      <td>63</td>\n",
              "      <td>121</td>\n",
              "      <td>0.0</td>\n",
              "      <td>0.0</td>\n",
              "      <td>0.0</td>\n",
              "      <td>0.0</td>\n",
              "      <td>0.0</td>\n",
              "      <td>0.0</td>\n",
              "      <td>0.0</td>\n",
              "      <td>0.0</td>\n",
              "      <td>0.0</td>\n",
              "      <td>0.0</td>\n",
              "      <td>317.0</td>\n",
              "      <td>642.0</td>\n",
              "      <td>193.0</td>\n",
              "      <td>1010.0</td>\n",
              "      <td>1589.0</td>\n",
              "      <td>210.0</td>\n",
              "      <td>0.0</td>\n",
              "      <td>0.0</td>\n",
              "      <td>0.0</td>\n",
              "    </tr>\n",
              "    <tr>\n",
              "      <th>2019-01-01 03:00:00</th>\n",
              "      <td>1316</td>\n",
              "      <td>935.0</td>\n",
              "      <td>59</td>\n",
              "      <td>174</td>\n",
              "      <td>0.0</td>\n",
              "      <td>0.0</td>\n",
              "      <td>0.0</td>\n",
              "      <td>0.0</td>\n",
              "      <td>0.0</td>\n",
              "      <td>0.0</td>\n",
              "      <td>0.0</td>\n",
              "      <td>0.0</td>\n",
              "      <td>0.0</td>\n",
              "      <td>0.0</td>\n",
              "      <td>313.0</td>\n",
              "      <td>582.0</td>\n",
              "      <td>178.0</td>\n",
              "      <td>772.0</td>\n",
              "      <td>1534.0</td>\n",
              "      <td>204.0</td>\n",
              "      <td>0.0</td>\n",
              "      <td>0.0</td>\n",
              "      <td>0.0</td>\n",
              "    </tr>\n",
              "    <tr>\n",
              "      <th>2019-01-01 04:00:00</th>\n",
              "      <td>802</td>\n",
              "      <td>390.0</td>\n",
              "      <td>46</td>\n",
              "      <td>82</td>\n",
              "      <td>0.0</td>\n",
              "      <td>0.0</td>\n",
              "      <td>0.0</td>\n",
              "      <td>0.0</td>\n",
              "      <td>0.0</td>\n",
              "      <td>0.0</td>\n",
              "      <td>0.0</td>\n",
              "      <td>0.0</td>\n",
              "      <td>0.0</td>\n",
              "      <td>0.0</td>\n",
              "      <td>172.0</td>\n",
              "      <td>143.0</td>\n",
              "      <td>35.0</td>\n",
              "      <td>197.0</td>\n",
              "      <td>610.0</td>\n",
              "      <td>88.0</td>\n",
              "      <td>0.0</td>\n",
              "      <td>0.0</td>\n",
              "      <td>0.0</td>\n",
              "    </tr>\n",
              "  </tbody>\n",
              "</table>\n",
              "</div>"
            ],
            "text/plain": [
              "                     O'Connell St Outside Pennys  ...  College Green - Dame St Side\n",
              "Time                                              ...                              \n",
              "2019-01-01 00:00:00                         1504  ...                           0.0\n",
              "2019-01-01 01:00:00                         1187  ...                           0.0\n",
              "2019-01-01 02:00:00                         1233  ...                           0.0\n",
              "2019-01-01 03:00:00                         1316  ...                           0.0\n",
              "2019-01-01 04:00:00                          802  ...                           0.0\n",
              "\n",
              "[5 rows x 23 columns]"
            ]
          },
          "metadata": {
            "tags": []
          },
          "execution_count": 9
        }
      ]
    },
    {
      "cell_type": "markdown",
      "metadata": {
        "id": "91S9bLiuzUHh"
      },
      "source": [
        "Makes a new Dataframe with the values at 18:00"
      ]
    },
    {
      "cell_type": "code",
      "metadata": {
        "id": "9ZHIgdTEf8qd"
      },
      "source": [
        "new_df = pd.DataFrame(columns=df.columns)\r\n",
        "\r\n",
        "for index, row in df.iterrows():\r\n",
        "  if index.hour == 18:\r\n",
        "    new_df = new_df.append(row)"
      ],
      "execution_count": 10,
      "outputs": []
    },
    {
      "cell_type": "markdown",
      "metadata": {
        "id": "hu5Tw8Bhzc-T"
      },
      "source": [
        "Finds the average for each week, and the times at the start of each week"
      ]
    },
    {
      "cell_type": "code",
      "metadata": {
        "id": "BwPoTxLofniK"
      },
      "source": [
        "def find_avg_week(street):\r\n",
        "  current_week = 1\r\n",
        "  weekly_averages = []\r\n",
        "  total_week = 0\r\n",
        "  for index, row in new_df.iterrows():\r\n",
        "    if index.week == current_week:\r\n",
        "      total_week += row[street]\r\n",
        "    else:\r\n",
        "      weekly_averages.append(total_week / 7)\r\n",
        "      current_week = index.week\r\n",
        "      total_week = row[street]\r\n",
        "  return weekly_averages\r\n",
        "\r\n",
        "def find_weeks():\r\n",
        "  current_week = 0\r\n",
        "  dates = []\r\n",
        "  for index, row in new_df.iterrows():\r\n",
        "    if current_week != index.week:\r\n",
        "      dates.append(index)\r\n",
        "      current_week += 1\r\n",
        "  return dates[:-2]\r\n",
        "\r\n",
        "weekly_dates = find_weeks()"
      ],
      "execution_count": 18,
      "outputs": []
    },
    {
      "cell_type": "markdown",
      "metadata": {
        "id": "BOBODcuGzjK6"
      },
      "source": [
        "Makes the streamgraph"
      ]
    },
    {
      "cell_type": "code",
      "metadata": {
        "colab": {
          "base_uri": "https://localhost:8080/",
          "height": 295
        },
        "id": "bgBCCmhXehrS",
        "outputId": "8bdc8e70-3c16-4823-d165-d75b6ac80353"
      },
      "source": [
        "def make_streamgraph(streets, key_events):\r\n",
        "  ax = plt.subplot()\r\n",
        "\r\n",
        "  colour_map = ['#78909C', '#6DA1E0', '#26C6DA', '#112E51'] \r\n",
        "  ax.stackplot(weekly_dates, [find_avg_week(n) for n in streets], labels=streets, colors=colour_map, baseline='weighted_wiggle')\r\n",
        "\r\n",
        "  months = MonthLocator()\r\n",
        "  monthsFmt = DateFormatter(\"%b\")\r\n",
        "  ax.xaxis.set_major_locator(months)\r\n",
        "  ax.xaxis.set_major_formatter(monthsFmt)\r\n",
        "\r\n",
        "\r\n",
        "  plt.legend(bbox_to_anchor=(1.6, 1), loc='upper right')\r\n",
        "  ax.set_title('Number of people on Dublin Streets in 2019')\r\n",
        "  ax.set_ylabel('People in thousands')\r\n",
        "  ax.set_xlabel('Date')\r\n",
        "\r\n",
        "streets = [\"O'Connell St Outside Pennys\", \"Grafton Street @ CompuB\", \"Aston Quay\", \"Liffey Street\"]\r\n",
        "\r\n",
        "make_streamgraph(streets, True)"
      ],
      "execution_count": 40,
      "outputs": [
        {
          "output_type": "display_data",
          "data": {
            "image/png": "[encoded data removed]",
            "text/plain": [
              "<Figure size 432x288 with 1 Axes>"
            ]
          },
          "metadata": {
            "tags": [],
            "needs_background": "light"
          }
        }
      ]
    }
  ]
}