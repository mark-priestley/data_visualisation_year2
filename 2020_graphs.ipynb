{
  "nbformat": 4,
  "nbformat_minor": 0,
  "metadata": {
    "colab": {
      "name": "2020_graphs.ipynb",
      "provenance": [],
      "collapsed_sections": []
    },
    "kernelspec": {
      "name": "python3",
      "display_name": "Python 3"
    },
    "widgets": {
      "application/vnd.jupyter.widget-state+json": {
        "744a33e094194d88bae149b5652b95b0": {
          "model_module": "@jupyter-widgets/controls",
          "model_name": "VBoxModel",
          "state": {
            "_view_name": "VBoxView",
            "_dom_classes": [
              "widget-interact"
            ],
            "_model_name": "VBoxModel",
            "_view_module": "@jupyter-widgets/controls",
            "_model_module_version": "1.5.0",
            "_view_count": null,
            "_view_module_version": "1.5.0",
            "box_style": "",
            "layout": "IPY_MODEL_b642bd40b7da4b99a5ec8778a57a8f95",
            "_model_module": "@jupyter-widgets/controls",
            "children": [
              "IPY_MODEL_03fe914ede254af5b6caa9fd7f65a29e",
              "IPY_MODEL_b1edd1c033fd4dfd9b7230d6f2e46b56",
              "IPY_MODEL_62acb4917c2e4e6bb02975443ee5a6ac",
              "IPY_MODEL_0dc6ca69ece5453cb3881b76457e72d3",
              "IPY_MODEL_7a05dbab6ee04a309010db5c280e067c"
            ]
          }
        },
        "b642bd40b7da4b99a5ec8778a57a8f95": {
          "model_module": "@jupyter-widgets/base",
          "model_name": "LayoutModel",
          "state": {
            "_view_name": "LayoutView",
            "grid_template_rows": null,
            "right": null,
            "justify_content": null,
            "_view_module": "@jupyter-widgets/base",
            "overflow": null,
            "_model_module_version": "1.2.0",
            "_view_count": null,
            "flex_flow": null,
            "width": null,
            "min_width": null,
            "border": null,
            "align_items": null,
            "bottom": null,
            "_model_module": "@jupyter-widgets/base",
            "top": null,
            "grid_column": null,
            "overflow_y": null,
            "overflow_x": null,
            "grid_auto_flow": null,
            "grid_area": null,
            "grid_template_columns": null,
            "flex": null,
            "_model_name": "LayoutModel",
            "justify_items": null,
            "grid_row": null,
            "max_height": null,
            "align_content": null,
            "visibility": null,
            "align_self": null,
            "height": null,
            "min_height": null,
            "padding": null,
            "grid_auto_rows": null,
            "grid_gap": null,
            "max_width": null,
            "order": null,
            "_view_module_version": "1.2.0",
            "grid_template_areas": null,
            "object_position": null,
            "object_fit": null,
            "grid_auto_columns": null,
            "margin": null,
            "display": null,
            "left": null
          }
        },
        "03fe914ede254af5b6caa9fd7f65a29e": {
          "model_module": "@jupyter-widgets/controls",
          "model_name": "DropdownModel",
          "state": {
            "_options_labels": [
              "O'Connell St Outside Pennys",
              "O'Connell St Outside Clerys",
              "Aston Quay",
              "Grafton Street @ CompuB",
              "Talbot Street North",
              "Doilier Street, Burgh Quay",
              "Dawson Street Replacement",
              "Talbot Street South",
              "O'Connell St, Parnell St @ AIB",
              "Grafton Street / Nassau Street / Suffolk Street",
              "Westmoreland Street East",
              "Liffey Street",
              "Westmoreland Street West",
              "Bachelors Walk",
              "College Green @ Church Lane",
              "College Green - Dame St Side"
            ],
            "_view_name": "DropdownView",
            "style": "IPY_MODEL_576d1de88c074dd8abb53b21383dd49d",
            "_dom_classes": [],
            "description": "street1",
            "_model_name": "DropdownModel",
            "index": 1,
            "_view_module": "@jupyter-widgets/controls",
            "_model_module_version": "1.5.0",
            "_view_count": null,
            "disabled": false,
            "_view_module_version": "1.5.0",
            "description_tooltip": null,
            "_model_module": "@jupyter-widgets/controls",
            "layout": "IPY_MODEL_b7ded8d5fb6747e4a22af05df8f4a0ae"
          }
        },
        "b1edd1c033fd4dfd9b7230d6f2e46b56": {
          "model_module": "@jupyter-widgets/controls",
          "model_name": "DropdownModel",
          "state": {
            "_options_labels": [
              "None",
              "O'Connell St Outside Pennys",
              "O'Connell St Outside Clerys",
              "Aston Quay",
              "Grafton Street @ CompuB",
              "Talbot Street North",
              "Doilier Street, Burgh Quay",
              "Dawson Street Replacement",
              "Talbot Street South",
              "O'Connell St, Parnell St @ AIB",
              "Grafton Street / Nassau Street / Suffolk Street",
              "Westmoreland Street East",
              "Liffey Street",
              "Westmoreland Street West",
              "Bachelors Walk",
              "College Green @ Church Lane",
              "College Green - Dame St Side"
            ],
            "_view_name": "DropdownView",
            "style": "IPY_MODEL_863d9ba8f7394afeb46f310b680ba12d",
            "_dom_classes": [],
            "description": "street2",
            "_model_name": "DropdownModel",
            "index": null,
            "_view_module": "@jupyter-widgets/controls",
            "_model_module_version": "1.5.0",
            "_view_count": null,
            "disabled": false,
            "_view_module_version": "1.5.0",
            "description_tooltip": null,
            "_model_module": "@jupyter-widgets/controls",
            "layout": "IPY_MODEL_86e16e2329ff4446acaaf56481269fc2"
          }
        },
        "62acb4917c2e4e6bb02975443ee5a6ac": {
          "model_module": "@jupyter-widgets/controls",
          "model_name": "DropdownModel",
          "state": {
            "_options_labels": [
              "Streamgraph",
              "Line Chart",
              "Scatter"
            ],
            "_view_name": "DropdownView",
            "style": "IPY_MODEL_315ab0451e8a4ff99e27e44d0a77c1d0",
            "_dom_classes": [],
            "description": "chart",
            "_model_name": "DropdownModel",
            "index": 2,
            "_view_module": "@jupyter-widgets/controls",
            "_model_module_version": "1.5.0",
            "_view_count": null,
            "disabled": false,
            "_view_module_version": "1.5.0",
            "description_tooltip": null,
            "_model_module": "@jupyter-widgets/controls",
            "layout": "IPY_MODEL_574a2be9ea754c779a90f91fd40060fe"
          }
        },
        "0dc6ca69ece5453cb3881b76457e72d3": {
          "model_module": "@jupyter-widgets/controls",
          "model_name": "CheckboxModel",
          "state": {
            "_view_name": "CheckboxView",
            "style": "IPY_MODEL_6d266c1214dc4773a263710eb8359cf9",
            "_dom_classes": [],
            "description": "key_events",
            "_model_name": "CheckboxModel",
            "_view_module": "@jupyter-widgets/controls",
            "_model_module_version": "1.5.0",
            "value": true,
            "_view_count": null,
            "disabled": false,
            "_view_module_version": "1.5.0",
            "indent": true,
            "description_tooltip": null,
            "_model_module": "@jupyter-widgets/controls",
            "layout": "IPY_MODEL_5e5d9592278a4f37a0ec3c6f071c5ff8"
          }
        },
        "7a05dbab6ee04a309010db5c280e067c": {
          "model_module": "@jupyter-widgets/output",
          "model_name": "OutputModel",
          "state": {
            "_view_name": "OutputView",
            "msg_id": "",
            "_dom_classes": [],
            "_model_name": "OutputModel",
            "outputs": [
              {
                "output_type": "display_data",
                "metadata": {
                  "tags": [],
                  "needs_background": "light"
                },
                "image/png": "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\n",
                "text/plain": "<Figure size 432x288 with 1 Axes>"
              }
            ],
            "_view_module": "@jupyter-widgets/output",
            "_model_module_version": "1.0.0",
            "_view_count": null,
            "_view_module_version": "1.0.0",
            "layout": "IPY_MODEL_19a0c2f2112b4feb99e81f76cca5072f",
            "_model_module": "@jupyter-widgets/output"
          }
        },
        "576d1de88c074dd8abb53b21383dd49d": {
          "model_module": "@jupyter-widgets/controls",
          "model_name": "DescriptionStyleModel",
          "state": {
            "_view_name": "StyleView",
            "_model_name": "DescriptionStyleModel",
            "description_width": "",
            "_view_module": "@jupyter-widgets/base",
            "_model_module_version": "1.5.0",
            "_view_count": null,
            "_view_module_version": "1.2.0",
            "_model_module": "@jupyter-widgets/controls"
          }
        },
        "b7ded8d5fb6747e4a22af05df8f4a0ae": {
          "model_module": "@jupyter-widgets/base",
          "model_name": "LayoutModel",
          "state": {
            "_view_name": "LayoutView",
            "grid_template_rows": null,
            "right": null,
            "justify_content": null,
            "_view_module": "@jupyter-widgets/base",
            "overflow": null,
            "_model_module_version": "1.2.0",
            "_view_count": null,
            "flex_flow": null,
            "width": null,
            "min_width": null,
            "border": null,
            "align_items": null,
            "bottom": null,
            "_model_module": "@jupyter-widgets/base",
            "top": null,
            "grid_column": null,
            "overflow_y": null,
            "overflow_x": null,
            "grid_auto_flow": null,
            "grid_area": null,
            "grid_template_columns": null,
            "flex": null,
            "_model_name": "LayoutModel",
            "justify_items": null,
            "grid_row": null,
            "max_height": null,
            "align_content": null,
            "visibility": null,
            "align_self": null,
            "height": null,
            "min_height": null,
            "padding": null,
            "grid_auto_rows": null,
            "grid_gap": null,
            "max_width": null,
            "order": null,
            "_view_module_version": "1.2.0",
            "grid_template_areas": null,
            "object_position": null,
            "object_fit": null,
            "grid_auto_columns": null,
            "margin": null,
            "display": null,
            "left": null
          }
        },
        "863d9ba8f7394afeb46f310b680ba12d": {
          "model_module": "@jupyter-widgets/controls",
          "model_name": "DescriptionStyleModel",
          "state": {
            "_view_name": "StyleView",
            "_model_name": "DescriptionStyleModel",
            "description_width": "",
            "_view_module": "@jupyter-widgets/base",
            "_model_module_version": "1.5.0",
            "_view_count": null,
            "_view_module_version": "1.2.0",
            "_model_module": "@jupyter-widgets/controls"
          }
        },
        "86e16e2329ff4446acaaf56481269fc2": {
          "model_module": "@jupyter-widgets/base",
          "model_name": "LayoutModel",
          "state": {
            "_view_name": "LayoutView",
            "grid_template_rows": null,
            "right": null,
            "justify_content": null,
            "_view_module": "@jupyter-widgets/base",
            "overflow": null,
            "_model_module_version": "1.2.0",
            "_view_count": null,
            "flex_flow": null,
            "width": null,
            "min_width": null,
            "border": null,
            "align_items": null,
            "bottom": null,
            "_model_module": "@jupyter-widgets/base",
            "top": null,
            "grid_column": null,
            "overflow_y": null,
            "overflow_x": null,
            "grid_auto_flow": null,
            "grid_area": null,
            "grid_template_columns": null,
            "flex": null,
            "_model_name": "LayoutModel",
            "justify_items": null,
            "grid_row": null,
            "max_height": null,
            "align_content": null,
            "visibility": null,
            "align_self": null,
            "height": null,
            "min_height": null,
            "padding": null,
            "grid_auto_rows": null,
            "grid_gap": null,
            "max_width": null,
            "order": null,
            "_view_module_version": "1.2.0",
            "grid_template_areas": null,
            "object_position": null,
            "object_fit": null,
            "grid_auto_columns": null,
            "margin": null,
            "display": null,
            "left": null
          }
        },
        "315ab0451e8a4ff99e27e44d0a77c1d0": {
          "model_module": "@jupyter-widgets/controls",
          "model_name": "DescriptionStyleModel",
          "state": {
            "_view_name": "StyleView",
            "_model_name": "DescriptionStyleModel",
            "description_width": "",
            "_view_module": "@jupyter-widgets/base",
            "_model_module_version": "1.5.0",
            "_view_count": null,
            "_view_module_version": "1.2.0",
            "_model_module": "@jupyter-widgets/controls"
          }
        },
        "574a2be9ea754c779a90f91fd40060fe": {
          "model_module": "@jupyter-widgets/base",
          "model_name": "LayoutModel",
          "state": {
            "_view_name": "LayoutView",
            "grid_template_rows": null,
            "right": null,
            "justify_content": null,
            "_view_module": "@jupyter-widgets/base",
            "overflow": null,
            "_model_module_version": "1.2.0",
            "_view_count": null,
            "flex_flow": null,
            "width": null,
            "min_width": null,
            "border": null,
            "align_items": null,
            "bottom": null,
            "_model_module": "@jupyter-widgets/base",
            "top": null,
            "grid_column": null,
            "overflow_y": null,
            "overflow_x": null,
            "grid_auto_flow": null,
            "grid_area": null,
            "grid_template_columns": null,
            "flex": null,
            "_model_name": "LayoutModel",
            "justify_items": null,
            "grid_row": null,
            "max_height": null,
            "align_content": null,
            "visibility": null,
            "align_self": null,
            "height": null,
            "min_height": null,
            "padding": null,
            "grid_auto_rows": null,
            "grid_gap": null,
            "max_width": null,
            "order": null,
            "_view_module_version": "1.2.0",
            "grid_template_areas": null,
            "object_position": null,
            "object_fit": null,
            "grid_auto_columns": null,
            "margin": null,
            "display": null,
            "left": null
          }
        },
        "6d266c1214dc4773a263710eb8359cf9": {
          "model_module": "@jupyter-widgets/controls",
          "model_name": "DescriptionStyleModel",
          "state": {
            "_view_name": "StyleView",
            "_model_name": "DescriptionStyleModel",
            "description_width": "",
            "_view_module": "@jupyter-widgets/base",
            "_model_module_version": "1.5.0",
            "_view_count": null,
            "_view_module_version": "1.2.0",
            "_model_module": "@jupyter-widgets/controls"
          }
        },
        "5e5d9592278a4f37a0ec3c6f071c5ff8": {
          "model_module": "@jupyter-widgets/base",
          "model_name": "LayoutModel",
          "state": {
            "_view_name": "LayoutView",
            "grid_template_rows": null,
            "right": null,
            "justify_content": null,
            "_view_module": "@jupyter-widgets/base",
            "overflow": null,
            "_model_module_version": "1.2.0",
            "_view_count": null,
            "flex_flow": null,
            "width": null,
            "min_width": null,
            "border": null,
            "align_items": null,
            "bottom": null,
            "_model_module": "@jupyter-widgets/base",
            "top": null,
            "grid_column": null,
            "overflow_y": null,
            "overflow_x": null,
            "grid_auto_flow": null,
            "grid_area": null,
            "grid_template_columns": null,
            "flex": null,
            "_model_name": "LayoutModel",
            "justify_items": null,
            "grid_row": null,
            "max_height": null,
            "align_content": null,
            "visibility": null,
            "align_self": null,
            "height": null,
            "min_height": null,
            "padding": null,
            "grid_auto_rows": null,
            "grid_gap": null,
            "max_width": null,
            "order": null,
            "_view_module_version": "1.2.0",
            "grid_template_areas": null,
            "object_position": null,
            "object_fit": null,
            "grid_auto_columns": null,
            "margin": null,
            "display": null,
            "left": null
          }
        },
        "19a0c2f2112b4feb99e81f76cca5072f": {
          "model_module": "@jupyter-widgets/base",
          "model_name": "LayoutModel",
          "state": {
            "_view_name": "LayoutView",
            "grid_template_rows": null,
            "right": null,
            "justify_content": null,
            "_view_module": "@jupyter-widgets/base",
            "overflow": null,
            "_model_module_version": "1.2.0",
            "_view_count": null,
            "flex_flow": null,
            "width": null,
            "min_width": null,
            "border": null,
            "align_items": null,
            "bottom": null,
            "_model_module": "@jupyter-widgets/base",
            "top": null,
            "grid_column": null,
            "overflow_y": null,
            "overflow_x": null,
            "grid_auto_flow": null,
            "grid_area": null,
            "grid_template_columns": null,
            "flex": null,
            "_model_name": "LayoutModel",
            "justify_items": null,
            "grid_row": null,
            "max_height": null,
            "align_content": null,
            "visibility": null,
            "align_self": null,
            "height": null,
            "min_height": null,
            "padding": null,
            "grid_auto_rows": null,
            "grid_gap": null,
            "max_width": null,
            "order": null,
            "_view_module_version": "1.2.0",
            "grid_template_areas": null,
            "object_position": null,
            "object_fit": null,
            "grid_auto_columns": null,
            "margin": null,
            "display": null,
            "left": null
          }
        }
      }
    }
  },
  "cells": [
    {
      "cell_type": "markdown",
      "metadata": {
        "id": "6VRZ-ZV0sivZ"
      },
      "source": [
        "# Final Chart - 2020"
      ]
    },
    {
      "cell_type": "markdown",
      "metadata": {
        "id": "mb4S6_alspKJ"
      },
      "source": [
        "Imports pandas and reads dataframe"
      ]
    },
    {
      "cell_type": "code",
      "metadata": {
        "id": "VtIQJcforEyZ"
      },
      "source": [
        "import pandas as pd\r\n",
        "\r\n",
        "df = pd.read_csv('https://data.smartdublin.ie/dataset/cc421859-1f4f-43f6-b349-f4ca0e1c60fa/resource/3048794e-16bd-4edb-9ba9-8018a6aadcdb/download/jan-oct-2020-ped-data.csv')"
      ],
      "execution_count": null,
      "outputs": []
    },
    {
      "cell_type": "markdown",
      "metadata": {
        "id": "CIan5lrAsuDg"
      },
      "source": [
        "Sets date column to datetime"
      ]
    },
    {
      "cell_type": "code",
      "metadata": {
        "id": "8f9D1QkXrRNO"
      },
      "source": [
        "df['Date & Time']= pd.to_datetime(df['Date & Time'], dayfirst=True)"
      ],
      "execution_count": null,
      "outputs": []
    },
    {
      "cell_type": "markdown",
      "metadata": {
        "id": "2Xfhdrn5sx62"
      },
      "source": [
        "The next two cells makes a dataframe from df which contains the rows at 18:00 each day, as I only want to compare the values at the same time"
      ]
    },
    {
      "cell_type": "code",
      "metadata": {
        "id": "82e7zk_HrUm9"
      },
      "source": [
        "new_df = pd.DataFrame(columns=df.columns)"
      ],
      "execution_count": null,
      "outputs": []
    },
    {
      "cell_type": "code",
      "metadata": {
        "id": "LeLfXj3DrV0U"
      },
      "source": [
        "for index, row in df.iterrows():\r\n",
        "  if row[\"Date & Time\"].hour == 18:\r\n",
        "    new_df = new_df.append(row)"
      ],
      "execution_count": null,
      "outputs": []
    },
    {
      "cell_type": "markdown",
      "metadata": {
        "id": "8yMuZ-Z5tGIY"
      },
      "source": [
        "Imports packages"
      ]
    },
    {
      "cell_type": "code",
      "metadata": {
        "id": "t4ug9EnircT-"
      },
      "source": [
        "import numpy as np\r\n",
        "import matplotlib.pyplot as plt\r\n",
        "from matplotlib import figure\r\n",
        "from ipywidgets import interact, interactive\r\n",
        "from matplotlib.dates import MonthLocator, WeekdayLocator, DateFormatter\r\n",
        "from IPython.display import display\r\n",
        "import datetime"
      ],
      "execution_count": null,
      "outputs": []
    },
    {
      "cell_type": "markdown",
      "metadata": {
        "id": "FRvTGc91tIsc"
      },
      "source": [
        "Records a few key dates which can be viewed in the graph"
      ]
    },
    {
      "cell_type": "code",
      "metadata": {
        "id": "q6yq0vSVsOVl"
      },
      "source": [
        "first_lockdown = datetime.datetime(2020, 3, 12)\r\n",
        "\r\n",
        "eased_restictions = datetime.datetime(2020, 5, 5)\r\n",
        "\r\n",
        "phase_3 = datetime.datetime(2020, 6, 29)\r\n",
        "\r\n",
        "second_lockdown = datetime.datetime(2020, 10, 21)"
      ],
      "execution_count": null,
      "outputs": []
    },
    {
      "cell_type": "markdown",
      "metadata": {
        "id": "f8CB8MVrtPFF"
      },
      "source": [
        "Gives weekly averages for streets, to make some graph types smoother.\r\n",
        "\r\n",
        "I ommited the last week as it is not fully completed, at the time I am making this"
      ]
    },
    {
      "cell_type": "code",
      "metadata": {
        "id": "RSN_RKWUrrv7"
      },
      "source": [
        "def find_avg_week(street):\r\n",
        "  current_week = 1\r\n",
        "  weekly_averages = []\r\n",
        "  total_week = 0\r\n",
        "  for index, row in new_df.iterrows():\r\n",
        "    if row['Date & Time'].week == current_week:\r\n",
        "      total_week += row[street]\r\n",
        "    else:\r\n",
        "      weekly_averages.append(total_week / 7)\r\n",
        "      current_week = row['Date & Time'].week\r\n",
        "      total_week = row[street]\r\n",
        "  return weekly_averages\r\n",
        "\r\n",
        "def find_months():\r\n",
        "  current_week = 0\r\n",
        "  dates = []\r\n",
        "  for index, row in new_df.iterrows():\r\n",
        "    if current_week != row[\"Date & Time\"].week:\r\n",
        "      dates.append(row[\"Date & Time\"])\r\n",
        "      current_week += 1\r\n",
        "  return dates[:-1]\r\n",
        "\r\n",
        "weekly_dates = find_months()"
      ],
      "execution_count": null,
      "outputs": []
    },
    {
      "cell_type": "markdown",
      "metadata": {
        "id": "x5bY61gbtpLm"
      },
      "source": [
        "Function that makes the graph. It requires arguments made by the ipython interactive widget"
      ]
    },
    {
      "cell_type": "code",
      "metadata": {
        "id": "PH8DsjIzr1wv"
      },
      "source": [
        "def make_graph(street1, street2, chart, key_events):\r\n",
        "\r\n",
        "    x = new_df[\"Date & Time\"]\r\n",
        "\r\n",
        "    ax = plt.subplot()\r\n",
        "    colour_map = ['#6DA1E0', '#26C6DA']\r\n",
        "\r\n",
        "    if chart == 'Line Chart':\r\n",
        "\r\n",
        "      if street2 is not None:\r\n",
        "        y1 = find_avg_week(street1)\r\n",
        "        y2 = find_avg_week(street2)\r\n",
        "        ax.plot_date(weekly_dates, y1,'b-', label=street1)\r\n",
        "        ax.plot_date(weekly_dates, y2, 'b-', color='red',label=street2)\r\n",
        "\r\n",
        "      else:\r\n",
        "        y1 = find_avg_week(street1)\r\n",
        "        ax.plot_date(weekly_dates, y1,'b-', label=street1)\r\n",
        "\r\n",
        "    elif chart == 'Streamgraph':\r\n",
        "\r\n",
        "      if street2 is not None:\r\n",
        "        y1 = find_avg_week(street1)\r\n",
        "        y2 = find_avg_week(street2)\r\n",
        "        ax.stackplot(weekly_dates, [y1, y2], labels=[street1, street2], colors=colour_map, baseline='weighted_wiggle')\r\n",
        "\r\n",
        "      else:\r\n",
        "        y1 = find_avg_week(street1)\r\n",
        "        ax.stackplot(weekly_dates, y1, labels=[street1], colors=colour_map,baseline='weighted_wiggle')\r\n",
        "\r\n",
        "    else:\r\n",
        "\r\n",
        "      if street2 is not None:\r\n",
        "        y1 = new_df[street1]\r\n",
        "        y2 = new_df[street2]\r\n",
        "        ax.plot_date(x, y1, markersize=2, label=street1)\r\n",
        "        ax.plot_date(x, y2, markersize=2, color='red', label=street2)\r\n",
        "\r\n",
        "      else:\r\n",
        "        y1 = new_df[street1]\r\n",
        "        ax.plot_date(x, y1, markersize=2, label=street1)\r\n",
        "\r\n",
        "    months = MonthLocator()\r\n",
        "    monthsFmt = DateFormatter(\"%b\")\r\n",
        "    ax.xaxis.set_major_locator(months)\r\n",
        "    ax.xaxis.set_major_formatter(monthsFmt)\r\n",
        "\r\n",
        "    if key_events:\r\n",
        "      ax.axvline(first_lockdown, color='black', linestyle='-', label='First Lockdown')\r\n",
        "      ax.axvline(eased_restictions, color='black', linestyle='--', label='Eased Restrictions')\r\n",
        "      ax.axvline(phase_3, color='black',linestyle=':', label='Phase 3')\r\n",
        "      ax.axvline(second_lockdown, color='black', linestyle='-.', label='Second Lockdown')\r\n",
        "\r\n",
        "    plt.legend(bbox_to_anchor=(1.6, 1), loc='upper right')\r\n",
        "    ax.set_title('Number of people on Dublin Streets in 2020')\r\n",
        "    ax.set_ylabel('People in thousands')\r\n",
        "    ax.set_xlabel('Date')"
      ],
      "execution_count": 92,
      "outputs": []
    },
    {
      "cell_type": "markdown",
      "metadata": {
        "id": "oKLEY447tyMj"
      },
      "source": [
        "Makes the graph."
      ]
    },
    {
      "cell_type": "code",
      "metadata": {
        "colab": {
          "base_uri": "https://localhost:8080/",
          "height": 423,
          "referenced_widgets": [
            "744a33e094194d88bae149b5652b95b0",
            "b642bd40b7da4b99a5ec8778a57a8f95",
            "03fe914ede254af5b6caa9fd7f65a29e",
            "b1edd1c033fd4dfd9b7230d6f2e46b56",
            "62acb4917c2e4e6bb02975443ee5a6ac",
            "0dc6ca69ece5453cb3881b76457e72d3",
            "7a05dbab6ee04a309010db5c280e067c",
            "576d1de88c074dd8abb53b21383dd49d",
            "b7ded8d5fb6747e4a22af05df8f4a0ae",
            "863d9ba8f7394afeb46f310b680ba12d",
            "86e16e2329ff4446acaaf56481269fc2",
            "315ab0451e8a4ff99e27e44d0a77c1d0",
            "574a2be9ea754c779a90f91fd40060fe",
            "6d266c1214dc4773a263710eb8359cf9",
            "5e5d9592278a4f37a0ec3c6f071c5ff8",
            "19a0c2f2112b4feb99e81f76cca5072f"
          ]
        },
        "id": "WzTBpjYKsFIn",
        "outputId": "c5ca0119-e995-464a-bebb-701ed5b2980c"
      },
      "source": [
        "non_empty_streets = [name for name in new_df.columns[1:] if not np.isnan(new_df[name]).any()]\r\n",
        "\r\n",
        "w = interactive(make_graph, street1=non_empty_streets, street2=[None] + non_empty_streets, chart=['Streamgraph', 'Line Chart', 'Scatter'], key_events=False)\r\n",
        "\r\n",
        "display(w)"
      ],
      "execution_count": 93,
      "outputs": [
        {
          "output_type": "display_data",
          "data": {
            "application/vnd.jupyter.widget-view+json": {
              "model_id": "744a33e094194d88bae149b5652b95b0",
              "version_minor": 0,
              "version_major": 2
            },
            "text/plain": [
              "interactive(children=(Dropdown(description='street1', options=(\"O'Connell St Outside Pennys\", \"O'Connell St Ou…"
            ]
          },
          "metadata": {
            "tags": []
          }
        }
      ]
    },
    {
      "cell_type": "markdown",
      "metadata": {
        "id": "1_QJdauSyFR5"
      },
      "source": [
        "Makes streamgraph of 4 streets in 2020\r\n",
        "\r\n",
        "Shows that the Talbot Street South is not distributed similarly to the other streets"
      ]
    },
    {
      "cell_type": "code",
      "metadata": {
        "id": "3iManxhkyONt"
      },
      "source": [
        "def make_streamgraph(streets, key_events):\r\n",
        "  ax = plt.subplot()\r\n",
        "  colour_map = ['#78909C', '#6DA1E0', '#26C6DA', '#112E51']\r\n",
        "\r\n",
        "  ax.stackplot(weekly_dates, [find_avg_week(n) for n in streets], colors=colour_map, labels=streets, baseline='weighted_wiggle')\r\n",
        "\r\n",
        "  months = MonthLocator()\r\n",
        "  monthsFmt = DateFormatter(\"%b\")\r\n",
        "  ax.xaxis.set_major_locator(months)\r\n",
        "  ax.xaxis.set_major_formatter(monthsFmt)\r\n",
        "\r\n",
        "  if key_events:\r\n",
        "    ax.axvline(first_lockdown, color='black', linestyle='-', label='First Lockdown')\r\n",
        "    ax.axvline(eased_restictions, color='black', linestyle='--', label='Eased Restrictions')\r\n",
        "    ax.axvline(phase_3, color='black',linestyle=':', label='Phase 3')\r\n",
        "    ax.axvline(second_lockdown, color='black', linestyle='-.', label='Second Lockdown')\r\n",
        "\r\n",
        "  plt.legend(bbox_to_anchor=(2, 1), loc='upper right')\r\n",
        "  ax.set_title('Number of people on Dublin Streets in 2020')\r\n",
        "  ax.set_ylabel('People in thousands')\r\n",
        "  ax.set_xlabel('Date')"
      ],
      "execution_count": 90,
      "outputs": []
    },
    {
      "cell_type": "code",
      "metadata": {
        "colab": {
          "base_uri": "https://localhost:8080/",
          "height": 295
        },
        "id": "4lelSG382MOr",
        "outputId": "709a671d-468e-4cbb-948c-8a7801e7e1b9"
      },
      "source": [
        "streets = [\"O'Connell St Outside Pennys\", \"Grafton Street @ CompuB\", \"Aston Quay\", \"Talbot Street South\"]\r\n",
        "\r\n",
        "make_streamgraph(streets, True)"
      ],
      "execution_count": 91,
      "outputs": [
        {
          "output_type": "display_data",
          "data": {
            "image/png": "[encoded data removed]",
            "text/plain": [
              "<Figure size 432x288 with 1 Axes>"
            ]
          },
          "metadata": {
            "tags": [],
            "needs_background": "light"
          }
        }
      ]
    }
  ]
}